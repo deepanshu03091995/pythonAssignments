{
  "cells": [
    {
      "cell_type": "markdown",
      "id": "3dcb940f",
      "metadata": {
        "id": "3dcb940f"
      },
      "source": [
        "## Python Basic Programming Assignment 10"
      ]
    },
    {
      "cell_type": "markdown",
      "id": "6720790a",
      "metadata": {
        "id": "6720790a"
      },
      "source": [
        "### 1. Write a Python program to find sum of elements in list?"
      ]
    },
    {
      "cell_type": "code",
      "execution_count": 1,
      "id": "533f67cc",
      "metadata": {
        "id": "533f67cc",
        "outputId": "7d23f035-12b5-4234-81d6-cc42fc5ebe75",
        "colab": {
          "base_uri": "https://localhost:8080/"
        }
      },
      "outputs": [
        {
          "output_type": "stream",
          "name": "stdout",
          "text": [
            "25\n"
          ]
        }
      ],
      "source": [
        "l = [2, 4, 1, 5, 6, 7]\n",
        "\n",
        "total = 0\n",
        "for i in l:\n",
        "    total += i\n",
        "    \n",
        "print(total)"
      ]
    },
    {
      "cell_type": "markdown",
      "id": "fe1137c3",
      "metadata": {
        "id": "fe1137c3"
      },
      "source": [
        "### 2. Write a Python program to  Multiply all numbers in the list?"
      ]
    },
    {
      "cell_type": "code",
      "execution_count": 2,
      "id": "fe22cfb0",
      "metadata": {
        "id": "fe22cfb0",
        "outputId": "e07e14dd-3f92-4148-c627-a5b88346c12b",
        "colab": {
          "base_uri": "https://localhost:8080/"
        }
      },
      "outputs": [
        {
          "output_type": "stream",
          "name": "stdout",
          "text": [
            "1680\n"
          ]
        }
      ],
      "source": [
        "l = [2, 4, 1, 5, 6, 7]\n",
        "\n",
        "mul = 1\n",
        "for i in l:\n",
        "    mul *= i\n",
        "    \n",
        "print(mul)"
      ]
    },
    {
      "cell_type": "markdown",
      "id": "078681db",
      "metadata": {
        "id": "078681db"
      },
      "source": [
        "### 3. Write a Python program to find smallest number in a list?"
      ]
    },
    {
      "cell_type": "code",
      "execution_count": 3,
      "id": "2ca471f8",
      "metadata": {
        "id": "2ca471f8",
        "outputId": "9e412f8c-14d7-4a67-9e8a-25f29c8f5cf7",
        "colab": {
          "base_uri": "https://localhost:8080/"
        }
      },
      "outputs": [
        {
          "output_type": "stream",
          "name": "stdout",
          "text": [
            "-7123\n"
          ]
        }
      ],
      "source": [
        "l = [2, 0, 1, 1235, 6, -7123]\n",
        "\n",
        "minimum = l[0]\n",
        "for i in l:\n",
        "    if i < minimum:\n",
        "        minimum = i\n",
        "        \n",
        "print(minimum)"
      ]
    },
    {
      "cell_type": "markdown",
      "id": "12b04397",
      "metadata": {
        "id": "12b04397"
      },
      "source": [
        "### 4. Write a Python program to find largest number in a list?"
      ]
    },
    {
      "cell_type": "code",
      "execution_count": 4,
      "id": "76437f44",
      "metadata": {
        "id": "76437f44",
        "outputId": "9845728b-08cc-4aef-d159-0db632c6d979",
        "colab": {
          "base_uri": "https://localhost:8080/"
        }
      },
      "outputs": [
        {
          "output_type": "stream",
          "name": "stdout",
          "text": [
            "1235\n"
          ]
        }
      ],
      "source": [
        "l = [2, 0, 1, 1235, 6, -7123]\n",
        "\n",
        "maximum = l[0]\n",
        "for i in l:\n",
        "    if i > maximum:\n",
        "        maximum = i\n",
        "        \n",
        "print(maximum)"
      ]
    },
    {
      "cell_type": "markdown",
      "id": "86442b51",
      "metadata": {
        "id": "86442b51"
      },
      "source": [
        "### 5. Write a Python program to find second largest number in a list?"
      ]
    },
    {
      "cell_type": "code",
      "execution_count": 5,
      "id": "4c58e34a",
      "metadata": {
        "id": "4c58e34a",
        "outputId": "fa35e218-7b6f-4bc0-ff07-f44e0dc8f443",
        "colab": {
          "base_uri": "https://localhost:8080/"
        }
      },
      "outputs": [
        {
          "output_type": "stream",
          "name": "stdout",
          "text": [
            "Second largest number: 6\n"
          ]
        }
      ],
      "source": [
        "l = [2, 0, 1, 1235, 6, -7123]\n",
        "l.sort(reverse=True)\n",
        "print(\"Second largest number:\", l[1])"
      ]
    },
    {
      "cell_type": "markdown",
      "id": "10964d7d",
      "metadata": {
        "id": "10964d7d"
      },
      "source": [
        "### 6. Write a Python program to find N largest elements from a list?"
      ]
    },
    {
      "cell_type": "code",
      "execution_count": 6,
      "id": "6dbaef03",
      "metadata": {
        "id": "6dbaef03"
      },
      "outputs": [],
      "source": [
        "def findLarge(lst, n):\n",
        "    \n",
        "    lst.sort(reverse = True)\n",
        "    return lst[n-1]"
      ]
    },
    {
      "cell_type": "code",
      "execution_count": 7,
      "id": "024f6884",
      "metadata": {
        "id": "024f6884",
        "outputId": "956df537-c647-4cbc-b947-0287cfa7ebd1",
        "colab": {
          "base_uri": "https://localhost:8080/"
        }
      },
      "outputs": [
        {
          "output_type": "execute_result",
          "data": {
            "text/plain": [
              "6"
            ]
          },
          "metadata": {},
          "execution_count": 7
        }
      ],
      "source": [
        "# 2nd Largest Element\n",
        "\n",
        "l = [2, 0, 1, 1235, 6, -7123]\n",
        "findLarge(l, 2)"
      ]
    },
    {
      "cell_type": "code",
      "execution_count": 8,
      "id": "747f6e7a",
      "metadata": {
        "id": "747f6e7a",
        "outputId": "0cc962c9-eac1-4d9c-da43-49693d87c1c8",
        "colab": {
          "base_uri": "https://localhost:8080/"
        }
      },
      "outputs": [
        {
          "output_type": "execute_result",
          "data": {
            "text/plain": [
              "1"
            ]
          },
          "metadata": {},
          "execution_count": 8
        }
      ],
      "source": [
        "# 4th Largest Element\n",
        "\n",
        "l = [2, 0, 1, 1235, 6, -7123]\n",
        "findLarge(l, 4)"
      ]
    },
    {
      "cell_type": "markdown",
      "id": "2f1a1e98",
      "metadata": {
        "id": "2f1a1e98"
      },
      "source": [
        "### 7. Write a Python program to print even numbers in a list?"
      ]
    },
    {
      "cell_type": "code",
      "execution_count": 9,
      "id": "3d732576",
      "metadata": {
        "id": "3d732576",
        "outputId": "6df4bc37-a277-4100-9538-a848dede08aa",
        "colab": {
          "base_uri": "https://localhost:8080/"
        }
      },
      "outputs": [
        {
          "output_type": "execute_result",
          "data": {
            "text/plain": [
              "[2, 0, 6, 54, 12, -42]"
            ]
          },
          "metadata": {},
          "execution_count": 9
        }
      ],
      "source": [
        "l = [2, 0, 1, 1235, 6, -7123, 21, 54, 12, -23, -42]\n",
        "\n",
        "[ i for i in l if i%2 == 0]"
      ]
    },
    {
      "cell_type": "markdown",
      "id": "989bb324",
      "metadata": {
        "id": "989bb324"
      },
      "source": [
        "### 8. Write a Python program to print odd numbers in a List?"
      ]
    },
    {
      "cell_type": "code",
      "execution_count": 10,
      "id": "a314aada",
      "metadata": {
        "id": "a314aada",
        "outputId": "4cf1f7a0-7d17-41b2-c7bb-f3fec183e263",
        "colab": {
          "base_uri": "https://localhost:8080/"
        }
      },
      "outputs": [
        {
          "output_type": "execute_result",
          "data": {
            "text/plain": [
              "[1, 1235, -7123, 21, -23]"
            ]
          },
          "metadata": {},
          "execution_count": 10
        }
      ],
      "source": [
        "l = [2, 0, 1, 1235, 6, -7123, 21, 54, 12, -23, -42]\n",
        "\n",
        "[ i for i in l if i%2 == 1]"
      ]
    },
    {
      "cell_type": "markdown",
      "id": "185b7b13",
      "metadata": {
        "id": "185b7b13"
      },
      "source": [
        "### 9. Write a Python program to Remove empty List from List?"
      ]
    },
    {
      "cell_type": "code",
      "execution_count": 11,
      "id": "9437d81b",
      "metadata": {
        "id": "9437d81b",
        "outputId": "2c705797-461f-4c5f-8667-55ca08421bb3",
        "colab": {
          "base_uri": "https://localhost:8080/"
        }
      },
      "outputs": [
        {
          "output_type": "execute_result",
          "data": {
            "text/plain": [
              "[12, 31, [1, 2, -23], [1], [123.23], 2, 321]"
            ]
          },
          "metadata": {},
          "execution_count": 11
        }
      ],
      "source": [
        "l = [[], 12, 31, [1,2, -23] , [1], [], [123.23], [], 2, 321]\n",
        "\n",
        "result = []\n",
        "for i in l:\n",
        "    if type(i) == list:\n",
        "        if len(i) != 0:\n",
        "            result.append(i)\n",
        "    else:\n",
        "        result.append(i)\n",
        "\n",
        "result\n",
        "            \n",
        "            "
      ]
    },
    {
      "cell_type": "markdown",
      "id": "278cfacc",
      "metadata": {
        "id": "278cfacc"
      },
      "source": [
        "### 10. Write a Python program to Cloning or Copying a list?"
      ]
    },
    {
      "cell_type": "code",
      "execution_count": 12,
      "id": "670afc25",
      "metadata": {
        "id": "670afc25",
        "outputId": "e1c83acd-5c0d-4e94-944d-7df441a16f23",
        "colab": {
          "base_uri": "https://localhost:8080/"
        }
      },
      "outputs": [
        {
          "output_type": "stream",
          "name": "stdout",
          "text": [
            "[2, 1, 31, 3, 412, 3, 4667, [2, 3, 1]]\n"
          ]
        }
      ],
      "source": [
        "list1 = [2,1, 31, 3, 412, 3, 4667, [2,3,1]]\n",
        "list2 = []\n",
        "\n",
        "for i in list1:\n",
        "    list2.append(i)\n",
        "    \n",
        "print(list2)"
      ]
    },
    {
      "cell_type": "markdown",
      "id": "b359bedf",
      "metadata": {
        "id": "b359bedf"
      },
      "source": [
        "### 11. Write a Python program to Count occurrences of an element in a list?"
      ]
    },
    {
      "cell_type": "code",
      "execution_count": 13,
      "id": "fcebaa59",
      "metadata": {
        "id": "fcebaa59"
      },
      "outputs": [],
      "source": [
        "l = [1,1,1, 3, 4, 1, 7, 8, 6,6,2,1]\n",
        "\n",
        "def occurrences(lst, element):\n",
        "    count = 0\n",
        "    for i in lst:\n",
        "        if i == element:\n",
        "            count += 1\n",
        "            \n",
        "    return count"
      ]
    },
    {
      "cell_type": "code",
      "execution_count": 14,
      "id": "f5b78b00",
      "metadata": {
        "id": "f5b78b00",
        "outputId": "31b08975-3a71-4720-c66c-1752750ac796",
        "colab": {
          "base_uri": "https://localhost:8080/"
        }
      },
      "outputs": [
        {
          "output_type": "execute_result",
          "data": {
            "text/plain": [
              "5"
            ]
          },
          "metadata": {},
          "execution_count": 14
        }
      ],
      "source": [
        "occurrences(l, 1)"
      ]
    },
    {
      "cell_type": "code",
      "execution_count": null,
      "id": "d0632cc2",
      "metadata": {
        "id": "d0632cc2"
      },
      "outputs": [],
      "source": []
    }
  ],
  "metadata": {
    "kernelspec": {
      "display_name": "Python 3 (ipykernel)",
      "language": "python",
      "name": "python3"
    },
    "language_info": {
      "codemirror_mode": {
        "name": "ipython",
        "version": 3
      },
      "file_extension": ".py",
      "mimetype": "text/x-python",
      "name": "python",
      "nbconvert_exporter": "python",
      "pygments_lexer": "ipython3",
      "version": "3.9.7"
    },
    "colab": {
      "provenance": []
    }
  },
  "nbformat": 4,
  "nbformat_minor": 5
}