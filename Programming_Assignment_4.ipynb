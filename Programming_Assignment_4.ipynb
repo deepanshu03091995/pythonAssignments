{
  "cells": [
    {
      "cell_type": "markdown",
      "id": "20cb4340",
      "metadata": {
        "id": "20cb4340"
      },
      "source": [
        "## Programming Assignment_4\n",
        "----------------"
      ]
    },
    {
      "cell_type": "markdown",
      "id": "4fdb6695",
      "metadata": {
        "id": "4fdb6695"
      },
      "source": [
        "### 1. Write a Python Program to Find the Factorial of a Number?\n",
        "##### Sol."
      ]
    },
    {
      "cell_type": "code",
      "execution_count": 1,
      "id": "0e5e7ce2",
      "metadata": {
        "id": "0e5e7ce2",
        "outputId": "cec70a43-7131-4051-cdcc-ad50cae20ee4",
        "colab": {
          "base_uri": "https://localhost:8080/"
        }
      },
      "outputs": [
        {
          "output_type": "stream",
          "name": "stdout",
          "text": [
            "Enter a number: 5\n",
            "\n",
            "Factorial of 5: 120\n"
          ]
        }
      ],
      "source": [
        "num = int(input(\"Enter a number: \"))\n",
        "\n",
        "fact = 1\n",
        "for i in range(num, 0, -1):\n",
        "    fact = fact*i\n",
        "    \n",
        "print(\"\\nFactorial of {}: {}\".format(num, fact))"
      ]
    },
    {
      "cell_type": "markdown",
      "id": "e6beef62",
      "metadata": {
        "id": "e6beef62"
      },
      "source": [
        "### 2. Write a Python Program to Display the multiplication Table?\n",
        "##### Sol."
      ]
    },
    {
      "cell_type": "code",
      "execution_count": 2,
      "id": "eba74c90",
      "metadata": {
        "id": "eba74c90",
        "outputId": "3a1e380a-4b91-433f-d3b6-cfdd4fb7e7d5",
        "colab": {
          "base_uri": "https://localhost:8080/"
        }
      },
      "outputs": [
        {
          "output_type": "stream",
          "name": "stdout",
          "text": [
            "Enter a number: 8\n",
            "8 x 1 = 8\n",
            "8 x 2 = 16\n",
            "8 x 3 = 24\n",
            "8 x 4 = 32\n",
            "8 x 5 = 40\n",
            "8 x 6 = 48\n",
            "8 x 7 = 56\n",
            "8 x 8 = 64\n",
            "8 x 9 = 72\n",
            "8 x 10 = 80\n"
          ]
        }
      ],
      "source": [
        "num = int(input(\"Enter a number: \"))\n",
        "\n",
        "for i in range(1, 11):\n",
        "    print(\"{} x {} = {}\".format(num, i, num*i))"
      ]
    },
    {
      "cell_type": "markdown",
      "id": "7de7eba5",
      "metadata": {
        "id": "7de7eba5"
      },
      "source": [
        "### 3. Write a Python Program to Print the Fibonacci sequence?\n",
        "##### Sol."
      ]
    },
    {
      "cell_type": "code",
      "execution_count": 3,
      "id": "14b8e06e",
      "metadata": {
        "id": "14b8e06e",
        "outputId": "3104e844-ae78-4922-fc1f-2bf2c280efa0",
        "colab": {
          "base_uri": "https://localhost:8080/"
        }
      },
      "outputs": [
        {
          "output_type": "stream",
          "name": "stdout",
          "text": [
            "Enter a length: 78\n",
            "0 1 1 2 3 5 8 13 21 34 55 89 144 233 377 610 987 1597 2584 4181 6765 10946 17711 28657 46368 75025 121393 196418 317811 514229 832040 1346269 2178309 3524578 5702887 9227465 14930352 24157817 39088169 63245986 102334155 165580141 267914296 433494437 701408733 1134903170 1836311903 2971215073 4807526976 7778742049 12586269025 20365011074 32951280099 53316291173 86267571272 139583862445 225851433717 365435296162 591286729879 956722026041 1548008755920 2504730781961 4052739537881 6557470319842 10610209857723 17167680177565 27777890035288 44945570212853 72723460248141 117669030460994 190392490709135 308061521170129 498454011879264 806515533049393 1304969544928657 2111485077978050 3416454622906707 5527939700884757 "
          ]
        }
      ],
      "source": [
        "fibo_length = int(input(\"Enter a length: \"))\n",
        "\n",
        "a = 0\n",
        "b = 1\n",
        "print(a, end = ' ')\n",
        "print(b, end = ' ')\n",
        "while(fibo_length-2 > 0):\n",
        "    nt = a + b\n",
        "    print(nt, end = ' ')\n",
        "    a = b\n",
        "    b = nt\n",
        "    \n",
        "    fibo_length -= 1"
      ]
    },
    {
      "cell_type": "markdown",
      "id": "0446442e",
      "metadata": {
        "id": "0446442e"
      },
      "source": [
        "### 4. Write a Python Program to Check Armstrong Number?\n",
        "##### Sol. "
      ]
    },
    {
      "cell_type": "code",
      "execution_count": 4,
      "id": "dc4d694d",
      "metadata": {
        "id": "dc4d694d"
      },
      "outputs": [],
      "source": [
        "import math"
      ]
    },
    {
      "cell_type": "code",
      "execution_count": 5,
      "id": "8275da72",
      "metadata": {
        "id": "8275da72"
      },
      "outputs": [],
      "source": [
        "def fibo_check(num):\n",
        "    l = len(str(num))  ## l = number of digits of number\n",
        "    sum1 = 0 \n",
        "    temp_num = num\n",
        "    while(num > 0):\n",
        "        d = num % 10\n",
        "        sum1 += int(math.pow(d, l))\n",
        "        num = num // 10\n",
        "\n",
        "    if(sum1 == int(temp_num)):\n",
        "        return 1\n",
        "    else:\n",
        "        return 0"
      ]
    },
    {
      "cell_type": "code",
      "execution_count": 6,
      "id": "da8cea05",
      "metadata": {
        "id": "da8cea05",
        "outputId": "99b54d45-81e4-4a2e-a590-7d7bc1c750f3",
        "colab": {
          "base_uri": "https://localhost:8080/"
        }
      },
      "outputs": [
        {
          "output_type": "stream",
          "name": "stdout",
          "text": [
            "Enter a number: 78\n",
            "78 is not an armstrong number\n"
          ]
        }
      ],
      "source": [
        "num = int(input(\"Enter a number: \"))\n",
        "\n",
        "if(fibo_check(num)):\n",
        "    print(\"{} is an armstrong number\".format(num))\n",
        "else:\n",
        "    print(\"{} is not an armstrong number\".format(num))"
      ]
    },
    {
      "cell_type": "code",
      "execution_count": 7,
      "id": "ab5dcfe7",
      "metadata": {
        "id": "ab5dcfe7",
        "outputId": "70e32b71-4836-4b19-e6b5-7d4ab5b0caa8",
        "colab": {
          "base_uri": "https://localhost:8080/"
        }
      },
      "outputs": [
        {
          "output_type": "stream",
          "name": "stdout",
          "text": [
            "Enter a number: 8\n",
            "8 is an armstrong number\n"
          ]
        }
      ],
      "source": [
        "num = int(input(\"Enter a number: \"))\n",
        "\n",
        "if(fibo_check(num)):\n",
        "    print(\"{} is an armstrong number\".format(num))\n",
        "else:\n",
        "    print(\"{} is not an armstrong number\".format(num))"
      ]
    },
    {
      "cell_type": "markdown",
      "id": "a6f9adfe",
      "metadata": {
        "id": "a6f9adfe"
      },
      "source": [
        "### 5. Write a Python Program to Find Armstrong Number in an Interval?\n",
        "##### Sol."
      ]
    },
    {
      "cell_type": "code",
      "execution_count": 9,
      "id": "0c4aa2f5",
      "metadata": {
        "id": "0c4aa2f5",
        "outputId": "1e54ccce-0cc6-4006-a3c0-fc21ad8c90b0",
        "colab": {
          "base_uri": "https://localhost:8080/"
        }
      },
      "outputs": [
        {
          "output_type": "stream",
          "name": "stdout",
          "text": [
            "Enter the lower value of range: 2\n",
            "Enter the higher value of range: 7\n",
            "\n",
            "From 2 to 7 following are the Armstrong Number:\n",
            "2 3 4 5 6 7 "
          ]
        }
      ],
      "source": [
        "low = int(input(\"Enter the lower value of range: \"))\n",
        "high = int(input(\"Enter the higher value of range: \"))\n",
        "\n",
        "print(\"\\nFrom {} to {} following are the Armstrong Number:\".format(low, high), end='\\n')\n",
        "for i in range(low, high+1):\n",
        "    \n",
        "    if(fibo_check(i)):\n",
        "        print(i, end = ' ')"
      ]
    },
    {
      "cell_type": "markdown",
      "id": "157cad60",
      "metadata": {
        "id": "157cad60"
      },
      "source": [
        "9### 6. Write a Python Program to Find the Sum of Natural Numbers?\n",
        "##### Sol."
      ]
    },
    {
      "cell_type": "code",
      "execution_count": 10,
      "id": "aa7cf139",
      "metadata": {
        "id": "aa7cf139",
        "outputId": "10d5277e-218c-4502-98dc-4a1f4b4e50a9",
        "colab": {
          "base_uri": "https://localhost:8080/"
        }
      },
      "outputs": [
        {
          "output_type": "stream",
          "name": "stdout",
          "text": [
            "Enter a positive number: 6\n",
            "Sum of 6 natural number is 21\n"
          ]
        }
      ],
      "source": [
        "num = int(input(\"Enter a positive number: \"))\n",
        "\n",
        "total_sum = 0\n",
        "for i in range(1, num+1):\n",
        "    total_sum += i\n",
        "    \n",
        "print(\"Sum of {} natural number is {}\".format(num, total_sum))"
      ]
    },
    {
      "cell_type": "code",
      "execution_count": 10,
      "id": "333c15da",
      "metadata": {
        "id": "333c15da"
      },
      "outputs": [],
      "source": []
    }
  ],
  "metadata": {
    "kernelspec": {
      "display_name": "Python 3 (ipykernel)",
      "language": "python",
      "name": "python3"
    },
    "language_info": {
      "codemirror_mode": {
        "name": "ipython",
        "version": 3
      },
      "file_extension": ".py",
      "mimetype": "text/x-python",
      "name": "python",
      "nbconvert_exporter": "python",
      "pygments_lexer": "ipython3",
      "version": "3.9.7"
    },
    "colab": {
      "provenance": []
    }
  },
  "nbformat": 4,
  "nbformat_minor": 5
}