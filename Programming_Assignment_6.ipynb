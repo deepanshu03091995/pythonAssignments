{
  "cells": [
    {
      "cell_type": "markdown",
      "id": "84a41a9f",
      "metadata": {
        "id": "84a41a9f"
      },
      "source": [
        "# Programming Basic Assignment 6"
      ]
    },
    {
      "cell_type": "markdown",
      "id": "a4b40558",
      "metadata": {
        "id": "a4b40558"
      },
      "source": [
        "------------\n",
        "### 1. Write a Python Program to Display Fibonacci Sequence Using Recursion?"
      ]
    },
    {
      "cell_type": "code",
      "execution_count": 1,
      "id": "e1b8420c",
      "metadata": {
        "id": "e1b8420c"
      },
      "outputs": [],
      "source": [
        "def fibo(a,b,c):\n",
        "    if c > 0:\n",
        "        c -= 1\n",
        "        print(a, end=' ')\n",
        "        temp = b\n",
        "        b = a + b\n",
        "        a = temp\n",
        "        fibo(a,b,c)"
      ]
    },
    {
      "cell_type": "code",
      "execution_count": 2,
      "id": "4dee60ad",
      "metadata": {
        "id": "4dee60ad",
        "outputId": "91f3d1f3-c807-487d-d307-a788161812e6",
        "colab": {
          "base_uri": "https://localhost:8080/"
        }
      },
      "outputs": [
        {
          "output_type": "stream",
          "name": "stdout",
          "text": [
            "0 1 1 2 3 5 8 13 21 34 "
          ]
        }
      ],
      "source": [
        "fibo(0,1,10)"
      ]
    },
    {
      "cell_type": "markdown",
      "id": "d7a57f60",
      "metadata": {
        "id": "d7a57f60"
      },
      "source": [
        "-------------------\n",
        "### 2. Write a Python Program to Find Factorial of Number Using Recursion?"
      ]
    },
    {
      "cell_type": "code",
      "execution_count": 3,
      "id": "2cdea8e5",
      "metadata": {
        "id": "2cdea8e5"
      },
      "outputs": [],
      "source": [
        "def fact(n):\n",
        "    if n == 0:\n",
        "        return 1\n",
        "    else:\n",
        "        return n*fact(n-1)"
      ]
    },
    {
      "cell_type": "code",
      "execution_count": 4,
      "id": "fc5ec589",
      "metadata": {
        "id": "fc5ec589",
        "outputId": "31c9d9cb-cfda-4749-fe36-f6b9f4bd7d54",
        "colab": {
          "base_uri": "https://localhost:8080/"
        }
      },
      "outputs": [
        {
          "output_type": "execute_result",
          "data": {
            "text/plain": [
              "120"
            ]
          },
          "metadata": {},
          "execution_count": 4
        }
      ],
      "source": [
        "fact(5)"
      ]
    },
    {
      "cell_type": "code",
      "execution_count": 5,
      "id": "9cc54ac2",
      "metadata": {
        "id": "9cc54ac2",
        "outputId": "e06bf4c6-8273-4434-eb6f-4c52ee70abd7",
        "colab": {
          "base_uri": "https://localhost:8080/"
        }
      },
      "outputs": [
        {
          "output_type": "execute_result",
          "data": {
            "text/plain": [
              "5040"
            ]
          },
          "metadata": {},
          "execution_count": 5
        }
      ],
      "source": [
        "fact(7)"
      ]
    },
    {
      "cell_type": "markdown",
      "id": "0357b86f",
      "metadata": {
        "id": "0357b86f"
      },
      "source": [
        "-------------\n",
        "### 3. Write a Python Program to calculate your Body Mass Index?"
      ]
    },
    {
      "cell_type": "code",
      "execution_count": 6,
      "id": "ae7411ea",
      "metadata": {
        "id": "ae7411ea"
      },
      "outputs": [],
      "source": [
        "def bmi(height, weight):\n",
        "    \n",
        "    return weight/(height*height)"
      ]
    },
    {
      "cell_type": "code",
      "execution_count": 7,
      "id": "b1ef7685",
      "metadata": {
        "id": "b1ef7685",
        "outputId": "a1dd92f9-55c0-4cdd-9d5c-805acca8aabd",
        "colab": {
          "base_uri": "https://localhost:8080/"
        }
      },
      "outputs": [
        {
          "output_type": "execute_result",
          "data": {
            "text/plain": [
              "21.604938271604937"
            ]
          },
          "metadata": {},
          "execution_count": 7
        }
      ],
      "source": [
        "bmi(1.8, 70)"
      ]
    },
    {
      "cell_type": "markdown",
      "id": "96d344a4",
      "metadata": {
        "id": "96d344a4"
      },
      "source": [
        "--------------\n",
        "### 4. Write a Python Program to calculate the natural logarithm of any number?"
      ]
    },
    {
      "cell_type": "code",
      "execution_count": 8,
      "id": "967b521c",
      "metadata": {
        "id": "967b521c",
        "outputId": "f0e66066-a21a-4b50-bca8-3c468ce15f0c",
        "colab": {
          "base_uri": "https://localhost:8080/"
        }
      },
      "outputs": [
        {
          "output_type": "stream",
          "name": "stdout",
          "text": [
            "Enter the number: 67\n",
            "4.204692619390966\n"
          ]
        }
      ],
      "source": [
        "import math\n",
        "\n",
        "try:\n",
        "    num = int(input(\"Enter the number: \"))\n",
        "except Exception as e:\n",
        "    print(e)\n",
        "else:\n",
        "    print(math.log(num))"
      ]
    },
    {
      "cell_type": "markdown",
      "id": "11c0d92c",
      "metadata": {
        "id": "11c0d92c"
      },
      "source": [
        "------------\n",
        "### 5. Write a Python Program for cube sum of first n natural numbers?\n"
      ]
    },
    {
      "cell_type": "code",
      "execution_count": 9,
      "id": "04a60dbe",
      "metadata": {
        "id": "04a60dbe"
      },
      "outputs": [],
      "source": [
        "def cubN(n):\n",
        "    return sum(range(n+1))**3"
      ]
    },
    {
      "cell_type": "code",
      "execution_count": 10,
      "id": "289a7617",
      "metadata": {
        "id": "289a7617",
        "outputId": "14df0701-8d60-4a53-8237-cbbf0af3cd5a",
        "colab": {
          "base_uri": "https://localhost:8080/"
        }
      },
      "outputs": [
        {
          "output_type": "execute_result",
          "data": {
            "text/plain": [
              "216"
            ]
          },
          "metadata": {},
          "execution_count": 10
        }
      ],
      "source": [
        "cubN(3)"
      ]
    },
    {
      "cell_type": "code",
      "execution_count": 11,
      "id": "7d76742d",
      "metadata": {
        "id": "7d76742d",
        "outputId": "f565154c-bca7-483f-859d-48c25076e1ff",
        "colab": {
          "base_uri": "https://localhost:8080/"
        }
      },
      "outputs": [
        {
          "output_type": "execute_result",
          "data": {
            "text/plain": [
              "1000"
            ]
          },
          "metadata": {},
          "execution_count": 11
        }
      ],
      "source": [
        "cubN(4)"
      ]
    },
    {
      "cell_type": "code",
      "execution_count": null,
      "id": "b85b9140",
      "metadata": {
        "id": "b85b9140"
      },
      "outputs": [],
      "source": []
    }
  ],
  "metadata": {
    "kernelspec": {
      "display_name": "Python 3 (ipykernel)",
      "language": "python",
      "name": "python3"
    },
    "language_info": {
      "codemirror_mode": {
        "name": "ipython",
        "version": 3
      },
      "file_extension": ".py",
      "mimetype": "text/x-python",
      "name": "python",
      "nbconvert_exporter": "python",
      "pygments_lexer": "ipython3",
      "version": "3.9.7"
    },
    "colab": {
      "provenance": []
    }
  },
  "nbformat": 4,
  "nbformat_minor": 5
}