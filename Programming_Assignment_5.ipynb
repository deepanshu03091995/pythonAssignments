{
  "cells": [
    {
      "cell_type": "markdown",
      "id": "4ac9602a",
      "metadata": {
        "id": "4ac9602a"
      },
      "source": [
        "## Python Basic Programming Assignment - 5\n",
        "--------------\n"
      ]
    },
    {
      "cell_type": "markdown",
      "id": "fdaeee06",
      "metadata": {
        "id": "fdaeee06"
      },
      "source": [
        "### 1. Write a Python Program to Find LCM?"
      ]
    },
    {
      "cell_type": "code",
      "execution_count": 1,
      "id": "2bbfde05",
      "metadata": {
        "id": "2bbfde05"
      },
      "outputs": [],
      "source": [
        "def lcm(a,b):\n",
        "    '''\n",
        "    Function which return the LCM of two number.\n",
        "    '''\n",
        "    high = a if a > b else b\n",
        "    \n",
        "    while True:\n",
        "        if (high%a==0) and (high%b==0):\n",
        "            break\n",
        "        else:\n",
        "            high += 1\n",
        "            \n",
        "    return high"
      ]
    },
    {
      "cell_type": "code",
      "execution_count": 2,
      "id": "b1491e95",
      "metadata": {
        "id": "b1491e95",
        "outputId": "df62f367-2b57-4c34-b121-f0bf4e8a9e81",
        "colab": {
          "base_uri": "https://localhost:8080/"
        }
      },
      "outputs": [
        {
          "output_type": "execute_result",
          "data": {
            "text/plain": [
              "154"
            ]
          },
          "metadata": {},
          "execution_count": 2
        }
      ],
      "source": [
        "a = 22\n",
        "b = 7\n",
        "\n",
        "lcm(a, b)"
      ]
    },
    {
      "cell_type": "markdown",
      "id": "2f459cdf",
      "metadata": {
        "id": "2f459cdf"
      },
      "source": [
        "---------------------\n",
        "### 2. Write a Python Program to Find HCF?"
      ]
    },
    {
      "cell_type": "code",
      "execution_count": 3,
      "id": "ca13cf0c",
      "metadata": {
        "id": "ca13cf0c"
      },
      "outputs": [],
      "source": [
        "def hcf(a, b):\n",
        "    \n",
        "    low = a if a < b else b\n",
        "    \n",
        "    for i in range(1, low+1):\n",
        "        if (a%i==0) and (b%i==0):\n",
        "            hcf = i\n",
        "            \n",
        "    return hcf"
      ]
    },
    {
      "cell_type": "code",
      "execution_count": 4,
      "id": "3e41d1af",
      "metadata": {
        "id": "3e41d1af",
        "outputId": "ad8f4b25-778e-4e18-dc03-b5d8b2711958",
        "colab": {
          "base_uri": "https://localhost:8080/"
        }
      },
      "outputs": [
        {
          "output_type": "execute_result",
          "data": {
            "text/plain": [
              "1"
            ]
          },
          "metadata": {},
          "execution_count": 4
        }
      ],
      "source": [
        "a = 53\n",
        "b = 33\n",
        "\n",
        "hcf(a, b)"
      ]
    },
    {
      "cell_type": "code",
      "execution_count": 5,
      "id": "642b8fdc",
      "metadata": {
        "id": "642b8fdc",
        "outputId": "673152ca-e3f0-49fd-9f90-2fa874902d30",
        "colab": {
          "base_uri": "https://localhost:8080/"
        }
      },
      "outputs": [
        {
          "output_type": "execute_result",
          "data": {
            "text/plain": [
              "4"
            ]
          },
          "metadata": {},
          "execution_count": 5
        }
      ],
      "source": [
        "a = 52\n",
        "b = 24\n",
        "\n",
        "hcf(a, b)"
      ]
    },
    {
      "cell_type": "markdown",
      "id": "d2c29370",
      "metadata": {
        "id": "d2c29370"
      },
      "source": [
        "---------------\n",
        "### 3. Write a Python Program to Convert Decimal to Binary, Octal and Hexadecimal?"
      ]
    },
    {
      "cell_type": "code",
      "execution_count": 6,
      "id": "f9fac93a",
      "metadata": {
        "id": "f9fac93a"
      },
      "outputs": [],
      "source": [
        "def conversion(num):\n",
        "    print(\"Binary:      \", bin(num))\n",
        "    print(\"Octal:       \", oct(num))\n",
        "    print(\"Hexadecimal: \", hex(num))"
      ]
    },
    {
      "cell_type": "code",
      "execution_count": 7,
      "id": "f3dd6f8d",
      "metadata": {
        "id": "f3dd6f8d",
        "outputId": "91fdf0e8-7cb6-466c-edaa-ca59f813a5ed",
        "colab": {
          "base_uri": "https://localhost:8080/"
        }
      },
      "outputs": [
        {
          "output_type": "stream",
          "name": "stdout",
          "text": [
            "Binary:       0b111\n",
            "Octal:        0o7\n",
            "Hexadecimal:  0x7\n"
          ]
        }
      ],
      "source": [
        "conversion(7)"
      ]
    },
    {
      "cell_type": "code",
      "execution_count": 8,
      "id": "724c2e07",
      "metadata": {
        "id": "724c2e07",
        "outputId": "e4c94eb4-5227-4c82-f587-e7ade7a0b560",
        "colab": {
          "base_uri": "https://localhost:8080/"
        }
      },
      "outputs": [
        {
          "output_type": "stream",
          "name": "stdout",
          "text": [
            "Binary:       0b101110001\n",
            "Octal:        0o561\n",
            "Hexadecimal:  0x171\n"
          ]
        }
      ],
      "source": [
        "conversion(369)"
      ]
    },
    {
      "cell_type": "markdown",
      "id": "2a16c5fd",
      "metadata": {
        "id": "2a16c5fd"
      },
      "source": [
        "---------------------\n",
        "### 4. Write a Python Program To Find ASCII value of a character?"
      ]
    },
    {
      "cell_type": "code",
      "execution_count": 9,
      "id": "c5164be3",
      "metadata": {
        "id": "c5164be3",
        "outputId": "695aaed3-714e-4154-ded1-799a2099e34b",
        "colab": {
          "base_uri": "https://localhost:8080/"
        }
      },
      "outputs": [
        {
          "output_type": "stream",
          "name": "stdout",
          "text": [
            "Enter a character: y\n",
            "ASCII value of y is 121\n"
          ]
        }
      ],
      "source": [
        "try:\n",
        "    char = input(\"Enter a character: \")\n",
        "    ASCII = ord(char)\n",
        "    print(\"ASCII value of {} is {}\".format(char, ASCII))\n",
        "except Exception as e:\n",
        "    print(e)"
      ]
    },
    {
      "cell_type": "markdown",
      "id": "226778a0",
      "metadata": {
        "id": "226778a0"
      },
      "source": [
        "----------------\n",
        "### 5. Write a Python Program to Make a Simple Calculator with 4 basic mathematical operations?"
      ]
    },
    {
      "cell_type": "code",
      "execution_count": 10,
      "id": "4d0c1a4d",
      "metadata": {
        "id": "4d0c1a4d",
        "outputId": "75c6c7c5-1f52-474b-bc2d-a09f634f58d2",
        "colab": {
          "base_uri": "https://localhost:8080/"
        }
      },
      "outputs": [
        {
          "output_type": "stream",
          "name": "stdout",
          "text": [
            "Enter first number: 5\n",
            "Enter second number: \n",
            "invalid literal for int() with base 10: ''\n"
          ]
        }
      ],
      "source": [
        "try:\n",
        "    \n",
        "    while True:\n",
        "        num1 = int(input(\"Enter first number: \"))\n",
        "        num2 = int(input(\"Enter second number: \"))\n",
        "        \n",
        "        print(\"\\nFor addition:       +\")\n",
        "        print(\"For subtraction:    -\")\n",
        "        print(\"For multiplicaton:  *\")\n",
        "        print(\"For division:       /\")\n",
        "        print(\"For Exit:            X\")\n",
        "        \n",
        "        ch = input(\"\\nEnter the choice for mathematical operations: \")\n",
        "        \n",
        "        \n",
        "        if ch == '+':\n",
        "            output = num1 + num2\n",
        "        elif ch == '-':\n",
        "            output = num1 - num2\n",
        "        elif ch == '*':\n",
        "            output = num1 * num2\n",
        "        elif ch == '/':\n",
        "            output = num1 / num2\n",
        "        \n",
        "        if ch == 'X' or ch == 'x':\n",
        "            break\n",
        "            \n",
        "        print(\"\\nResult: \", output)\n",
        "        \n",
        "        \n",
        "            \n",
        "except Exception as e:\n",
        "    print(e)"
      ]
    },
    {
      "cell_type": "code",
      "execution_count": null,
      "id": "fa01d572",
      "metadata": {
        "id": "fa01d572"
      },
      "outputs": [],
      "source": [
        "8"
      ]
    }
  ],
  "metadata": {
    "kernelspec": {
      "display_name": "Python 3 (ipykernel)",
      "language": "python",
      "name": "python3"
    },
    "language_info": {
      "codemirror_mode": {
        "name": "ipython",
        "version": 3
      },
      "file_extension": ".py",
      "mimetype": "text/x-python",
      "name": "python",
      "nbconvert_exporter": "python",
      "pygments_lexer": "ipython3",
      "version": "3.9.7"
    },
    "colab": {
      "provenance": []
    }
  },
  "nbformat": 4,
  "nbformat_minor": 5
}